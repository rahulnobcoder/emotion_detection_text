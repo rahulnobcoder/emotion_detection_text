{
 "cells": [
  {
   "cell_type": "code",
   "execution_count": 55,
   "metadata": {},
   "outputs": [],
   "source": [
    "import pandas as pd"
   ]
  },
  {
   "cell_type": "code",
   "execution_count": 56,
   "metadata": {},
   "outputs": [],
   "source": [
    "train_data=pd.read_csv(r\"dataset\\training.csv\")\n",
    "test_data=pd.read_csv(r\"dataset\\test.csv\")\n",
    "val_data=pd.read_csv(r\"dataset\\validation.csv\")\n",
    "large_data = pd.read_csv(r\"dataset\\FINALDATA.csv\",index_col=0)"
   ]
  },
  {
   "cell_type": "code",
   "execution_count": 57,
   "metadata": {},
   "outputs": [
    {
     "data": {
      "text/html": [
       "<div>\n",
       "<style scoped>\n",
       "    .dataframe tbody tr th:only-of-type {\n",
       "        vertical-align: middle;\n",
       "    }\n",
       "\n",
       "    .dataframe tbody tr th {\n",
       "        vertical-align: top;\n",
       "    }\n",
       "\n",
       "    .dataframe thead th {\n",
       "        text-align: right;\n",
       "    }\n",
       "</style>\n",
       "<table border=\"1\" class=\"dataframe\">\n",
       "  <thead>\n",
       "    <tr style=\"text-align: right;\">\n",
       "      <th></th>\n",
       "      <th>text</th>\n",
       "      <th>label</th>\n",
       "    </tr>\n",
       "  </thead>\n",
       "  <tbody>\n",
       "    <tr>\n",
       "      <th>0</th>\n",
       "      <td>i didnt feel humiliated</td>\n",
       "      <td>0</td>\n",
       "    </tr>\n",
       "    <tr>\n",
       "      <th>1</th>\n",
       "      <td>i can go from feeling so hopeless to so damned...</td>\n",
       "      <td>0</td>\n",
       "    </tr>\n",
       "    <tr>\n",
       "      <th>2</th>\n",
       "      <td>im grabbing a minute to post i feel greedy wrong</td>\n",
       "      <td>3</td>\n",
       "    </tr>\n",
       "    <tr>\n",
       "      <th>3</th>\n",
       "      <td>i am ever feeling nostalgic about the fireplac...</td>\n",
       "      <td>2</td>\n",
       "    </tr>\n",
       "    <tr>\n",
       "      <th>4</th>\n",
       "      <td>i am feeling grouchy</td>\n",
       "      <td>3</td>\n",
       "    </tr>\n",
       "  </tbody>\n",
       "</table>\n",
       "</div>"
      ],
      "text/plain": [
       "                                                text  label\n",
       "0                            i didnt feel humiliated      0\n",
       "1  i can go from feeling so hopeless to so damned...      0\n",
       "2   im grabbing a minute to post i feel greedy wrong      3\n",
       "3  i am ever feeling nostalgic about the fireplac...      2\n",
       "4                               i am feeling grouchy      3"
      ]
     },
     "execution_count": 57,
     "metadata": {},
     "output_type": "execute_result"
    }
   ],
   "source": [
    "train_data.head()"
   ]
  },
  {
   "cell_type": "code",
   "execution_count": 58,
   "metadata": {},
   "outputs": [
    {
     "name": "stdout",
     "output_type": "stream",
     "text": [
      "train_data :  (16000, 2)\n",
      "validation_data :  (2000, 2)\n",
      "test_data :  (2000, 2)\n",
      "large_data :  (30040, 2)\n"
     ]
    }
   ],
   "source": [
    "print(\"train_data : \",train_data.shape)\n",
    "print(\"validation_data : \",val_data.shape)\n",
    "print(\"test_data : \",test_data.shape)\n",
    "print(\"large_data : \",large_data.shape)"
   ]
  },
  {
   "cell_type": "code",
   "execution_count": 59,
   "metadata": {},
   "outputs": [],
   "source": [
    "from preprocess.functions import *"
   ]
  },
  {
   "cell_type": "code",
   "execution_count": 60,
   "metadata": {},
   "outputs": [
    {
     "name": "stderr",
     "output_type": "stream",
     "text": [
      "100%|██████████| 16000/16000 [00:00<00:00, 149494.58it/s]\n",
      "100%|██████████| 16000/16000 [00:00<00:00, 322536.43it/s]\n",
      "100%|██████████| 16000/16000 [00:00<00:00, 253698.61it/s]\n",
      "100%|██████████| 16000/16000 [00:00<00:00, 97937.83it/s]\n",
      "100%|██████████| 16000/16000 [00:00<00:00, 562856.89it/s]\n",
      "100%|██████████| 16000/16000 [01:31<00:00, 174.25it/s]\n",
      "100%|██████████| 2000/2000 [00:00<00:00, 123897.56it/s]\n",
      "100%|██████████| 2000/2000 [00:00<00:00, 187492.64it/s]\n",
      "100%|██████████| 2000/2000 [00:00<00:00, 361702.66it/s]\n",
      "100%|██████████| 2000/2000 [00:00<00:00, 56946.05it/s]\n",
      "100%|██████████| 2000/2000 [00:00<00:00, 188575.85it/s]\n",
      "100%|██████████| 2000/2000 [00:12<00:00, 161.54it/s]\n",
      "100%|██████████| 2000/2000 [00:00<00:00, 315491.67it/s]\n",
      "100%|██████████| 2000/2000 [00:00<?, ?it/s]\n",
      "100%|██████████| 2000/2000 [00:00<00:00, 245123.25it/s]\n",
      "100%|██████████| 2000/2000 [00:00<00:00, 174569.91it/s]\n",
      "100%|██████████| 2000/2000 [00:00<00:00, 121107.15it/s]\n",
      "100%|██████████| 2000/2000 [00:12<00:00, 156.02it/s]\n",
      "100%|██████████| 30040/30040 [00:00<00:00, 184788.72it/s]\n",
      "100%|██████████| 30040/30040 [00:00<00:00, 184899.90it/s]\n",
      "100%|██████████| 30040/30040 [00:00<00:00, 199254.66it/s]\n",
      "100%|██████████| 30040/30040 [00:00<00:00, 72129.42it/s]\n",
      "100%|██████████| 30040/30040 [00:00<00:00, 362600.81it/s]\n",
      "100%|██████████| 30040/30040 [03:00<00:00, 166.60it/s]\n"
     ]
    }
   ],
   "source": [
    "train_data= preprocess_text(train_data)\n",
    "test_data= preprocess_text(test_data)\n",
    "val_data= preprocess_text(val_data)\n",
    "large_data = preprocess_text(large_data)"
   ]
  },
  {
   "cell_type": "code",
   "execution_count": 65,
   "metadata": {},
   "outputs": [
    {
     "data": {
      "text/html": [
       "<div>\n",
       "<style scoped>\n",
       "    .dataframe tbody tr th:only-of-type {\n",
       "        vertical-align: middle;\n",
       "    }\n",
       "\n",
       "    .dataframe tbody tr th {\n",
       "        vertical-align: top;\n",
       "    }\n",
       "\n",
       "    .dataframe thead th {\n",
       "        text-align: right;\n",
       "    }\n",
       "</style>\n",
       "<table border=\"1\" class=\"dataframe\">\n",
       "  <thead>\n",
       "    <tr style=\"text-align: right;\">\n",
       "      <th></th>\n",
       "      <th>text</th>\n",
       "      <th>emotion</th>\n",
       "    </tr>\n",
       "  </thead>\n",
       "  <tbody>\n",
       "    <tr>\n",
       "      <th>0</th>\n",
       "      <td>do not feel humiliate</td>\n",
       "      <td>5</td>\n",
       "    </tr>\n",
       "    <tr>\n",
       "      <th>1</th>\n",
       "      <td>go feel hopeless damned hopeful around someone...</td>\n",
       "      <td>5</td>\n",
       "    </tr>\n",
       "    <tr>\n",
       "      <th>2</th>\n",
       "      <td>I m grab minute post feel greedy wrong</td>\n",
       "      <td>0</td>\n",
       "    </tr>\n",
       "    <tr>\n",
       "      <th>3</th>\n",
       "      <td>ever feel nostalgic fireplace know still property</td>\n",
       "      <td>3</td>\n",
       "    </tr>\n",
       "    <tr>\n",
       "      <th>4</th>\n",
       "      <td>feel grouchy</td>\n",
       "      <td>0</td>\n",
       "    </tr>\n",
       "    <tr>\n",
       "      <th>5</th>\n",
       "      <td>I ve feel little burden lately be not sure</td>\n",
       "      <td>5</td>\n",
       "    </tr>\n",
       "    <tr>\n",
       "      <th>6</th>\n",
       "      <td>I ve take milligrams times recommend amount I ...</td>\n",
       "      <td>4</td>\n",
       "    </tr>\n",
       "    <tr>\n",
       "      <th>7</th>\n",
       "      <td>feel confused life teenager jade year old man</td>\n",
       "      <td>1</td>\n",
       "    </tr>\n",
       "    <tr>\n",
       "      <th>8</th>\n",
       "      <td>petrona year feel petrona perform well make hu...</td>\n",
       "      <td>2</td>\n",
       "    </tr>\n",
       "    <tr>\n",
       "      <th>9</th>\n",
       "      <td>feel romantic</td>\n",
       "      <td>3</td>\n",
       "    </tr>\n",
       "  </tbody>\n",
       "</table>\n",
       "</div>"
      ],
      "text/plain": [
       "                                                text  emotion\n",
       "0                              do not feel humiliate        5\n",
       "1  go feel hopeless damned hopeful around someone...        5\n",
       "2             I m grab minute post feel greedy wrong        0\n",
       "3  ever feel nostalgic fireplace know still property        3\n",
       "4                                       feel grouchy        0\n",
       "5         I ve feel little burden lately be not sure        5\n",
       "6  I ve take milligrams times recommend amount I ...        4\n",
       "7      feel confused life teenager jade year old man        1\n",
       "8  petrona year feel petrona perform well make hu...        2\n",
       "9                                      feel romantic        3"
      ]
     },
     "execution_count": 65,
     "metadata": {},
     "output_type": "execute_result"
    }
   ],
   "source": [
    "large_data[:10]"
   ]
  },
  {
   "cell_type": "code",
   "execution_count": 67,
   "metadata": {},
   "outputs": [
    {
     "data": {
      "text/html": [
       "<div>\n",
       "<style scoped>\n",
       "    .dataframe tbody tr th:only-of-type {\n",
       "        vertical-align: middle;\n",
       "    }\n",
       "\n",
       "    .dataframe tbody tr th {\n",
       "        vertical-align: top;\n",
       "    }\n",
       "\n",
       "    .dataframe thead th {\n",
       "        text-align: right;\n",
       "    }\n",
       "</style>\n",
       "<table border=\"1\" class=\"dataframe\">\n",
       "  <thead>\n",
       "    <tr style=\"text-align: right;\">\n",
       "      <th></th>\n",
       "      <th>text</th>\n",
       "      <th>label</th>\n",
       "    </tr>\n",
       "  </thead>\n",
       "  <tbody>\n",
       "    <tr>\n",
       "      <th>0</th>\n",
       "      <td>do not feel humiliate</td>\n",
       "      <td>0</td>\n",
       "    </tr>\n",
       "    <tr>\n",
       "      <th>1</th>\n",
       "      <td>go feel hopeless damned hopeful around someone...</td>\n",
       "      <td>0</td>\n",
       "    </tr>\n",
       "    <tr>\n",
       "      <th>2</th>\n",
       "      <td>I m grab minute post feel greedy wrong</td>\n",
       "      <td>3</td>\n",
       "    </tr>\n",
       "    <tr>\n",
       "      <th>3</th>\n",
       "      <td>ever feel nostalgic fireplace know still property</td>\n",
       "      <td>2</td>\n",
       "    </tr>\n",
       "    <tr>\n",
       "      <th>4</th>\n",
       "      <td>feel grouchy</td>\n",
       "      <td>3</td>\n",
       "    </tr>\n",
       "    <tr>\n",
       "      <th>5</th>\n",
       "      <td>I ve feel little burden lately be not sure</td>\n",
       "      <td>0</td>\n",
       "    </tr>\n",
       "    <tr>\n",
       "      <th>6</th>\n",
       "      <td>I ve take milligrams times recommend amount I ...</td>\n",
       "      <td>5</td>\n",
       "    </tr>\n",
       "    <tr>\n",
       "      <th>7</th>\n",
       "      <td>feel confused life teenager jade year old man</td>\n",
       "      <td>4</td>\n",
       "    </tr>\n",
       "    <tr>\n",
       "      <th>8</th>\n",
       "      <td>petrona year feel petrona perform well make hu...</td>\n",
       "      <td>1</td>\n",
       "    </tr>\n",
       "    <tr>\n",
       "      <th>9</th>\n",
       "      <td>feel romantic</td>\n",
       "      <td>2</td>\n",
       "    </tr>\n",
       "  </tbody>\n",
       "</table>\n",
       "</div>"
      ],
      "text/plain": [
       "                                                text  label\n",
       "0                              do not feel humiliate      0\n",
       "1  go feel hopeless damned hopeful around someone...      0\n",
       "2             I m grab minute post feel greedy wrong      3\n",
       "3  ever feel nostalgic fireplace know still property      2\n",
       "4                                       feel grouchy      3\n",
       "5         I ve feel little burden lately be not sure      0\n",
       "6  I ve take milligrams times recommend amount I ...      5\n",
       "7      feel confused life teenager jade year old man      4\n",
       "8  petrona year feel petrona perform well make hu...      1\n",
       "9                                      feel romantic      2"
      ]
     },
     "execution_count": 67,
     "metadata": {},
     "output_type": "execute_result"
    }
   ],
   "source": [
    "train_data[:10]"
   ]
  },
  {
   "cell_type": "code",
   "execution_count": null,
   "metadata": {},
   "outputs": [],
   "source": [
    "mapping={\n",
    "    0:3,\n",
    "    1:4,\n",
    "    2:1,\n",
    "    3:2,\n",
    "    4:5,\n",
    "    5:0\n",
    "}"
   ]
  },
  {
   "cell_type": "code",
   "execution_count": 69,
   "metadata": {},
   "outputs": [],
   "source": [
    "large_data['emotion'] = large_data['emotion'].replace(mapping)"
   ]
  },
  {
   "cell_type": "code",
   "execution_count": 78,
   "metadata": {},
   "outputs": [],
   "source": [
    "large_data.columns=['text','label']"
   ]
  },
  {
   "cell_type": "code",
   "execution_count": 79,
   "metadata": {},
   "outputs": [],
   "source": [
    "train_data.to_csv('cleaned/cleaned_train.csv',index=False)\n",
    "test_data.to_csv('cleaned/cleaned_test.csv',index=False)\n",
    "val_data.to_csv('cleaned/cleaned_val.csv',index=False)\n",
    "large_data.to_csv('cleaned/cleaned_large.csv',index=False,)"
   ]
  },
  {
   "cell_type": "code",
   "execution_count": 2,
   "metadata": {},
   "outputs": [
    {
     "name": "stdout",
     "output_type": "stream",
     "text": [
      "Recognizing speech...\n",
      "Speech recognized:\n",
      "dogs are sitting by the road\n"
     ]
    }
   ],
   "source": [
    "import speech_recognition as sr\n",
    "\n",
    "# Initialize the recognizer\n",
    "r = sr.Recognizer()\n",
    "\n",
    "# Audio file path\n",
    "AUDIO_FILE = \"uploaded_audio.wav\"\n",
    "\n",
    "# Load audio file\n",
    "with sr.AudioFile(AUDIO_FILE) as source:\n",
    "    # Record the audio data\n",
    "    audio_data = r.record(source)\n",
    "    \n",
    "    try:\n",
    "        print(\"Recognizing speech...\")\n",
    "        # Use Google Speech Recognition\n",
    "        text = r.recognize_google(audio_data)\n",
    "        print(\"Speech recognized:\")\n",
    "        print(text)\n",
    "    except sr.UnknownValueError:\n",
    "        print(\"Could not understand audio\")\n",
    "    except sr.RequestError as e:\n",
    "        print(\"Error accessing Google Speech Recognition service; {0}\".format(e))"
   ]
  },
  {
   "cell_type": "code",
   "execution_count": null,
   "metadata": {},
   "outputs": [],
   "source": []
  }
 ],
 "metadata": {
  "kernelspec": {
   "display_name": "myenv",
   "language": "python",
   "name": "python3"
  },
  "language_info": {
   "codemirror_mode": {
    "name": "ipython",
    "version": 3
   },
   "file_extension": ".py",
   "mimetype": "text/x-python",
   "name": "python",
   "nbconvert_exporter": "python",
   "pygments_lexer": "ipython3",
   "version": "3.12.2"
  }
 },
 "nbformat": 4,
 "nbformat_minor": 2
}
